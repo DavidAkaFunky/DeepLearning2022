{
 "cells": [
  {
   "cell_type": "code",
   "execution_count": 1,
   "id": "offshore-candy",
   "metadata": {},
   "outputs": [],
   "source": [
    "%matplotlib inline\n",
    "#%matplotlib notebook\n",
    "\n",
    "import numpy as np\n",
    "import matplotlib.pyplot as plt"
   ]
  },
  {
   "cell_type": "markdown",
   "id": "peripheral-parking",
   "metadata": {},
   "source": [
    "### Exercise 1"
   ]
  },
  {
   "cell_type": "code",
   "execution_count": 2,
   "id": "received-webmaster",
   "metadata": {},
   "outputs": [
    {
     "name": "stdout",
     "output_type": "stream",
     "text": [
      "[[ 1. -2.]\n",
      " [ 1. -1.]\n",
      " [ 1.  0.]\n",
      " [ 1.  2.]]\n",
      "[ 1.02857143 -0.88571429]\n",
      "[ 0.8        -1.08571429  0.02857143  0.25714286]\n",
      "4\n",
      "0.4714285714285714\n"
     ]
    }
   ],
   "source": [
    "X = np.array([[-2], [-1], [0], [2]])\n",
    "y = np.array([2, 3, 1, -1])\n",
    "\n",
    "# Add column with ones to handle the bias coefficient.\n",
    "X = np.concatenate([np.ones((np.size(X, 0), 1)), X], axis=1)\n",
    "print(X)\n",
    "\n",
    "# Compute weights.\n",
    "w = np.linalg.inv(X.T.dot(X)).dot(X.T).dot(y)\n",
    "print(w)\n",
    "\n",
    "# Compute mean squared error.\n",
    "error = X.dot(w) - y\n",
    "print(error)\n",
    "print(y.size)\n",
    "print(error.dot(error) / y.size)"
   ]
  },
  {
   "cell_type": "code",
   "execution_count": 3,
   "id": "opponent-halifax",
   "metadata": {},
   "outputs": [
    {
     "name": "stdout",
     "output_type": "stream",
     "text": [
      "0.1428571428571428\n"
     ]
    }
   ],
   "source": [
    "# Query.\n",
    "x = np.array([1, 1])\n",
    "print(w.dot(x))"
   ]
  },
  {
   "cell_type": "code",
   "execution_count": 4,
   "id": "desperate-strengthening",
   "metadata": {},
   "outputs": [],
   "source": [
    "# Plot hyperplane 2d.\n",
    "def plot_hyperplane_2d(ax, w):\n",
    "    x = np.linspace(-3, 3, 10)\n",
    "    ax.plot(x, w[0] + w[1]*x, 'b-')"
   ]
  },
  {
   "cell_type": "code",
   "execution_count": 5,
   "id": "offensive-edition",
   "metadata": {
    "scrolled": true
   },
   "outputs": [
    {
     "data": {
      "image/png": "[encoded data removed]",
      "text/plain": [
       "<Figure size 640x480 with 1 Axes>"
      ]
     },
     "metadata": {},
     "output_type": "display_data"
    }
   ],
   "source": [
    "ax = plt.figure().gca()\n",
    "ax.plot(X[:,1], y, 'r.')\n",
    "plot_hyperplane_2d(ax, w)"
   ]
  },
  {
   "cell_type": "markdown",
   "id": "third-indian",
   "metadata": {},
   "source": [
    "### Exercise 2"
   ]
  },
  {
   "cell_type": "code",
   "execution_count": 6,
   "id": "coordinated-forty",
   "metadata": {},
   "outputs": [
    {
     "name": "stdout",
     "output_type": "stream",
     "text": [
      "[0.275 0.02  0.645]\n",
      "0.13224999999999998\n"
     ]
    }
   ],
   "source": [
    "X = np.array([[1, 1], [2, 1], [1, 3], [3, 3]])\n",
    "y = np.array([1.4, 0.5, 2, 2.5])\n",
    "\n",
    "# Add column with ones to handle the bias coefficient.\n",
    "X = np.concatenate([np.ones((np.size(X, 0), 1)), X], axis=1)\n",
    "\n",
    "# Compute weights.\n",
    "w = np.linalg.inv(X.transpose().dot(X)).dot(X.transpose()).dot(y)\n",
    "print(w)\n",
    "\n",
    "# Compute mean squared error.\n",
    "error = X.dot(w) - y\n",
    "print(error.dot(error) / y.size)"
   ]
  },
  {
   "cell_type": "code",
   "execution_count": 7,
   "id": "judicial-director",
   "metadata": {},
   "outputs": [
    {
     "name": "stdout",
     "output_type": "stream",
     "text": [
      "2.2499999999999987\n"
     ]
    }
   ],
   "source": [
    "# Query.\n",
    "x = np.array([1, 2, 3])\n",
    "print(w.dot(x))"
   ]
  },
  {
   "cell_type": "code",
   "execution_count": 8,
   "id": "numerical-harris",
   "metadata": {},
   "outputs": [],
   "source": [
    "# Plot hyperplane 3d.\n",
    "def plot_hyperplane_3d(ax, w):\n",
    "    x1 = np.linspace(0, 4, 10)\n",
    "    x2 = np.linspace(0, 4, 10)\n",
    "    a, b = np.meshgrid(x1,x2)\n",
    "    N = x1.size\n",
    "    X = np.array([np.ones(N**2), a.ravel(), b.ravel()]).transpose()\n",
    "    o = X.dot(w)\n",
    "    ax.plot_surface(a, b, np.reshape(o,(N,N)), alpha=0.5,\n",
    "                    linewidth=0, antialiased=True)\n"
   ]
  },
  {
   "cell_type": "code",
   "execution_count": 9,
   "id": "stopped-yellow",
   "metadata": {},
   "outputs": [
    {
     "ename": "TypeError",
     "evalue": "FigureBase.gca() got an unexpected keyword argument 'projection'",
     "output_type": "error",
     "traceback": [
      "\u001b[0;31m---------------------------------------------------------------------------\u001b[0m",
      "\u001b[0;31mTypeError\u001b[0m                                 Traceback (most recent call last)",
      "Cell \u001b[0;32mIn[9], line 1\u001b[0m\n\u001b[0;32m----> 1\u001b[0m ax \u001b[39m=\u001b[39m plt\u001b[39m.\u001b[39;49mfigure()\u001b[39m.\u001b[39;49mgca(projection\u001b[39m=\u001b[39;49m\u001b[39m'\u001b[39;49m\u001b[39m3d\u001b[39;49m\u001b[39m'\u001b[39;49m)\n\u001b[1;32m      2\u001b[0m ax\u001b[39m.\u001b[39mscatter(X[:,\u001b[39m1\u001b[39m], X[:,\u001b[39m2\u001b[39m], y, color\u001b[39m=\u001b[39m\u001b[39m'\u001b[39m\u001b[39mred\u001b[39m\u001b[39m'\u001b[39m)\n\u001b[1;32m      3\u001b[0m plot_hyperplane_3d(ax, w)\n",
      "\u001b[0;31mTypeError\u001b[0m: FigureBase.gca() got an unexpected keyword argument 'projection'"
     ]
    },
    {
     "data": {
      "text/plain": [
       "<Figure size 640x480 with 0 Axes>"
      ]
     },
     "metadata": {},
     "output_type": "display_data"
    }
   ],
   "source": [
    "\n",
    "ax = plt.figure().gca(projection='3d')\n",
    "ax.scatter(X[:,1], X[:,2], y, color='red')\n",
    "plot_hyperplane_3d(ax, w)"
   ]
  },
  {
   "cell_type": "markdown",
   "id": "productive-doctrine",
   "metadata": {},
   "source": [
    "### Exercise 3"
   ]
  },
  {
   "cell_type": "code",
   "execution_count": null,
   "id": "facial-mechanics",
   "metadata": {},
   "outputs": [],
   "source": [
    "X_original = np.array([[3], [4], [6], [10], [12]])\n",
    "y = np.array([1.5, 9.3, 23.4, 45.8, 60.1])\n"
   ]
  },
  {
   "cell_type": "code",
   "execution_count": null,
   "id": "single-computer",
   "metadata": {},
   "outputs": [],
   "source": [
    "# Log transformation.\n",
    "X = np.log(X_original)\n",
    "\n",
    "# Add column with ones to handle the bias coefficient.\n",
    "X = np.concatenate([np.ones((np.size(X, 0), 1)), X], axis=1)\n",
    "\n",
    "# Compute weights.\n",
    "w = np.linalg.inv(X.transpose().dot(X)).dot(X.transpose()).dot(y)\n",
    "print(w)\n",
    "\n",
    "# Compute mean squared error.\n",
    "error = X.dot(w) - y\n",
    "print(error.dot(error) / y.size)\n",
    "\n",
    "# o = w0 + w1*u1 + w2*u2, u1 = x1**2, u2 = x2**2\n",
    "# o = w0 + w1*x1**2 + w2*x2**2"
   ]
  },
  {
   "cell_type": "code",
   "execution_count": null,
   "id": "endangered-biology",
   "metadata": {},
   "outputs": [],
   "source": [
    "# Plot hyperplane 2d.\n",
    "def plot_hyperplane_2d(ax, w):\n",
    "    x = np.linspace(2, 13)\n",
    "    ax.plot(x, w[0] + w[1]*np.log(x), 'b-')\n",
    "    \n",
    "ax = plt.figure().gca()\n",
    "ax.plot(X_original, y, 'r.')\n",
    "plot_hyperplane_2d(ax, w)"
   ]
  },
  {
   "cell_type": "code",
   "execution_count": null,
   "id": "municipal-passport",
   "metadata": {},
   "outputs": [],
   "source": [
    "# Quadratic transformation.\n",
    "X = X_original**2\n",
    "\n",
    "# Add column with ones to handle the bias coefficient.\n",
    "X = np.concatenate([np.ones((np.size(X, 0), 1)), X], axis=1)\n",
    "\n",
    "# Compute weights.\n",
    "w = np.linalg.inv(X.transpose().dot(X)).dot(X.transpose()).dot(y)\n",
    "print(w)\n",
    "\n",
    "# Compute mean squared error.\n",
    "error = X.dot(w) - y\n",
    "print(error.dot(error) / y.size)\n",
    "\n",
    "# o = w0 + w1*u1 + w2*u2, u1 = x1**2, u2 = x2**2\n",
    "# o = w0 + w1*x1**2 + w2*x2**2"
   ]
  },
  {
   "cell_type": "code",
   "execution_count": null,
   "id": "proof-logistics",
   "metadata": {
    "scrolled": true
   },
   "outputs": [],
   "source": [
    "# Plot hyperplane 2d.\n",
    "def plot_hyperplane_2d(ax, w):\n",
    "    x = np.linspace(2, 13)\n",
    "    ax.plot(x, w[0] + w[1]*(x**2), 'b-')\n",
    "    \n",
    "ax = plt.figure().gca()\n",
    "ax.plot(X_original, y, 'r.')\n",
    "plot_hyperplane_2d(ax, w)"
   ]
  },
  {
   "cell_type": "markdown",
   "id": "controlled-seattle",
   "metadata": {},
   "source": [
    "### Exercise 4"
   ]
  },
  {
   "cell_type": "code",
   "execution_count": null,
   "id": "imperial-swedish",
   "metadata": {},
   "outputs": [],
   "source": [
    "#inputs = np.array([[1, 1], [2, 1], [1, 3], [3, 3]])\n",
    "#labels = np.array([1, 1, 0, 0])\n",
    "inputs = np.array([[-1, 0], [0, 0.25], [1, 1], [1, -1]])\n",
    "labels = np.array([0, 1, 1, 0])\n",
    "\n",
    "num_examples, num_features = np.shape(inputs)\n",
    "print(np.shape(inputs))\n",
    "print(inputs)\n",
    "\n",
    "# Augment points with a dimension for the bias.\n",
    "inputs = np.concatenate([np.ones((num_examples, 1)), inputs], axis=1)\n",
    "\n",
    "print(inputs)\n",
    "print(labels)"
   ]
  },
  {
   "cell_type": "code",
   "execution_count": null,
   "id": "arctic-arcade",
   "metadata": {},
   "outputs": [],
   "source": [
    "# One epoch of the *batch* gradient descent algorithm for logistic regression.\n",
    "def logistic_regression_gd_epoch(inputs, labels, w, eta):\n",
    "    # vector of probabilities of size num_inputs.\n",
    "    probs = 1 / (1 + np.exp(-inputs.dot(w)))\n",
    "    # gradient of loss function; vector of size num_features.\n",
    "    gradient = inputs.T.dot(probs - labels)\n",
    "    # Gradient descent update.\n",
    "    w -= eta * gradient"
   ]
  },
  {
   "cell_type": "code",
   "execution_count": null,
   "id": "known-genealogy",
   "metadata": {},
   "outputs": [],
   "source": [
    "# Evaluate cross-entropy loss.\n",
    "def evaluate_loss(inputs, labels, w):\n",
    "    # Evaluate loss function.\n",
    "    probs = 1 / (1 + np.exp(-inputs.dot(w)))\n",
    "    print(probs.shape)\n",
    "    loss = -labels.dot(np.log(probs)) - (1 - labels).dot(np.log(1 - probs))\n",
    "    print(\"Loss = %f\" % loss)\n",
    "    return loss\n"
   ]
  },
  {
   "cell_type": "code",
   "execution_count": null,
   "id": "usual-freedom",
   "metadata": {},
   "outputs": [],
   "source": [
    "# One epoch of the *stochastic* gradient descent algorithm for logistic regression.\n",
    "def logistic_regression_sgd_epoch(inputs, labels, w, eta):\n",
    "    for x, y in zip(inputs, labels):\n",
    "        # Sigmoid function.\n",
    "        # This gives the probability that the label is 1,\n",
    "        # according to the model.\n",
    "        y_hat = 1 / (1 + np.exp(-w.dot(x)))\n",
    "        # SGD update.\n",
    "        w += eta * (y - y_hat) * x"
   ]
  },
  {
   "cell_type": "code",
   "execution_count": null,
   "id": "dimensional-joint",
   "metadata": {},
   "outputs": [],
   "source": [
    "# Plot separation line associated with model w, along with the data.\n",
    "def plot_separation_line(inputs, labels, w):\n",
    "    # Plot data.\n",
    "    plt.plot(inputs[labels == 0, 1], inputs[labels == 0, 2], \"b.\")\n",
    "    plt.plot(inputs[labels == 1, 1], inputs[labels == 1, 2], \"r.\")\n",
    "    # Plot model separation line.\n",
    "    # w0 + w1*x1 + w2*x2 = 0.\n",
    "    x1 = np.array([-2, 2])\n",
    "    x2 = (-w[0] - w[1]*x1) / w[2]\n",
    "    plt.plot(x1, x2, 'k--')\n",
    "    plt.show()"
   ]
  },
  {
   "cell_type": "code",
   "execution_count": null,
   "id": "proud-package",
   "metadata": {},
   "outputs": [],
   "source": [
    "# Initialize all weights to 0 (including the bias)\n",
    "w = np.zeros(num_features + 1)\n",
    "\n",
    "# Learning rate.\n",
    "eta = 1\n",
    "    \n",
    "# Run 1 epoch of gradient descent.\n",
    "for epoch in range(10):\n",
    "    print(\"Epoch %d\" % (epoch + 1))\n",
    "    logistic_regression_gd_epoch(inputs, labels, w, eta)\n",
    "    evaluate_loss(inputs, labels, w)\n",
    "    print(w)\n",
    "    plot_separation_line(inputs, labels, w)\n",
    "    \n",
    "plot_separation_line(inputs, labels, w)"
   ]
  },
  {
   "cell_type": "code",
   "execution_count": null,
   "id": "unable-slide",
   "metadata": {},
   "outputs": [],
   "source": [
    "# Initialize all weights to 0 (including the bias)\n",
    "w = np.zeros(num_features + 1)\n",
    "\n",
    "# Learning rate.\n",
    "eta = 1\n",
    "    \n",
    "# Run 1 epoch of stochastic gradient descent.\n",
    "for epoch in range(10):\n",
    "    print(\"Epoch %d\" % (epoch + 1))\n",
    "    logistic_regression_sgd_epoch(inputs, labels, w, eta)\n",
    "    evaluate_loss(inputs, labels, w)\n",
    "    print(w)\n",
    "    plot_separation_line(inputs, labels, w)\n",
    "    \n",
    "plot_separation_line(inputs, labels, w)"
   ]
  },
  {
   "cell_type": "markdown",
   "id": "interested-corruption",
   "metadata": {},
   "source": [
    "### Exercise 5"
   ]
  },
  {
   "cell_type": "code",
   "execution_count": null,
   "id": "atlantic-scholarship",
   "metadata": {},
   "outputs": [],
   "source": [
    "from sklearn.datasets import load_digits\n",
    "data = load_digits()"
   ]
  },
  {
   "cell_type": "code",
   "execution_count": null,
   "id": "thorough-graduation",
   "metadata": {},
   "outputs": [],
   "source": [
    "inputs = data.data  # num_examples x num_features\n",
    "labels = data.target  # num_examples x num_labels\n",
    "\n",
    "num_examples, num_features = np.shape(inputs)\n",
    "num_labels = np.max(labels)+1  # labels are 0, 1, ..., num_labels-1\n",
    "\n",
    "# Augment points with a dimension for the bias.\n",
    "inputs = np.concatenate([np.ones((num_examples, 1)), inputs], axis=1)\n",
    "\n",
    "print(inputs)\n",
    "print(labels)\n",
    "\n",
    "print(data.DESCR)"
   ]
  },
  {
   "cell_type": "code",
   "execution_count": null,
   "id": "nearby-morgan",
   "metadata": {},
   "outputs": [],
   "source": [
    "# Split between train and test data.\n",
    "from sklearn.model_selection import train_test_split\n",
    "\n",
    "X_train, X_test, y_train, y_test = train_test_split(inputs, labels, test_size=0.2, random_state=42)"
   ]
  },
  {
   "cell_type": "code",
   "execution_count": null,
   "id": "pressing-zambia",
   "metadata": {},
   "outputs": [],
   "source": [
    "# One epoch of the *stochastic* gradient descent algorithm for logistic regression.\n",
    "def multi_class_logistic_regression_sgd_epoch(inputs, labels, W, eta):\n",
    "    for x, y in zip(inputs, labels):\n",
    "        # Label scores according to the model (num_labels x 1).\n",
    "        label_scores = W.dot(x)[:, None]\n",
    "        # One-hot vector with the true label (num_labels x 1).\n",
    "        y_one_hot = np.zeros((np.size(W, 0), 1))\n",
    "        y_one_hot[y] = 1\n",
    "        # Softmax function.\n",
    "        # This gives the label probabilities according to the model (num_labels x 1).\n",
    "        label_probabilities = np.exp(label_scores) / np.sum(np.exp(label_scores))\n",
    "        # SGD update. W is num_labels x num_features.\n",
    "        W += eta * (y_one_hot - label_probabilities) * x[None, :]"
   ]
  },
  {
   "cell_type": "code",
   "execution_count": null,
   "id": "pleasant-cabinet",
   "metadata": {},
   "outputs": [],
   "source": [
    "# Evaluate cross-entropy loss.\n",
    "def evaluate_loss(inputs, labels, w):\n",
    "    loss = 0.\n",
    "    for x, y in zip(inputs, labels):\n",
    "        # Label scores according to the model (num_labels x 1).\n",
    "        label_scores = W.dot(x)\n",
    "        # One-hot vector with the true label (num_labels x 1).\n",
    "        y_one_hot = np.zeros(np.size(W, 0))\n",
    "        y_one_hot[y] = 1\n",
    "        # Softmax function.\n",
    "        # This gives the label probabilities according to the model (num_labels x 1).\n",
    "        label_probabilities = np.exp(label_scores) / np.sum(np.exp(label_scores))\n",
    "        loss += -y_one_hot.dot(np.log(label_probabilities))\n",
    "    print(\"Loss = %f\" % loss)\n",
    "    return loss   "
   ]
  },
  {
   "cell_type": "code",
   "execution_count": null,
   "id": "tamil-seeking",
   "metadata": {},
   "outputs": [],
   "source": [
    "# Run classifier.\n",
    "def multi_class_classify(inputs, W):\n",
    "    predicted_labels = []\n",
    "    for x in inputs:\n",
    "        y_hat = np.argmax(W.dot(x))\n",
    "        predicted_labels.append(y_hat)\n",
    "    predicted_labels = np.array(predicted_labels)\n",
    "    return predicted_labels"
   ]
  },
  {
   "cell_type": "code",
   "execution_count": null,
   "id": "consecutive-calendar",
   "metadata": {},
   "outputs": [],
   "source": [
    "# Compute accuracy of predicted labels.\n",
    "def evaluate(predicted_labels, gold_labels):\n",
    "    accuracy = np.mean(predicted_labels == gold_labels)\n",
    "    return accuracy"
   ]
  },
  {
   "cell_type": "code",
   "execution_count": null,
   "id": "undefined-attack",
   "metadata": {},
   "outputs": [],
   "source": [
    "# Initialize all weights to 0 (including the bias)\n",
    "W = np.zeros((num_labels, num_features+1))  # num_labels x (num_features + 1)\n",
    "\n",
    "# Learning rate.\n",
    "eta = 0.001  \n",
    "    \n",
    "# Run 100 epochs of perceptron.\n",
    "train_accuracies = []\n",
    "test_accuracies = []\n",
    "losses = []\n",
    "for epoch in range(100):\n",
    "    print(\"Epoch %d\" % (epoch + 1))\n",
    "\n",
    "    # Run 1 epoch of training.\n",
    "    multi_class_logistic_regression_sgd_epoch(X_train, y_train, W, eta)\n",
    "    loss = evaluate_loss(X_train, y_train, W)\n",
    "    losses.append(loss)\n",
    "    \n",
    "    # Predict on training set and evaluate.\n",
    "    predicted_labels = multi_class_classify(X_train, W)\n",
    "    accuracy = evaluate(predicted_labels, y_train)\n",
    "    print(\"Accuracy (training set): %f\" % accuracy)\n",
    "    train_accuracies.append(accuracy)\n",
    "    \n",
    "    # Predict on test set and evaluate.\n",
    "    predicted_labels = multi_class_classify(X_test, W)\n",
    "    accuracy = evaluate(predicted_labels, y_test)\n",
    "    print(\"Accuracy (test set): %f\\n\" % accuracy)\n",
    "    test_accuracies.append(accuracy)\n",
    "\n",
    "# Plot loss as a function of number of epochs.\n",
    "plt.plot(range(100), losses, 'b-', label='train loss')\n",
    "plt.legend()\n",
    "plt.show()\n",
    "\n",
    "# Plot train and test accuracies as a function of number of epochs.\n",
    "plt.plot(range(100), train_accuracies, 'b-', label='train acc')\n",
    "plt.plot(range(100), test_accuracies, 'r-', label='test acc')\n",
    "plt.legend()\n",
    "plt.show()\n"
   ]
  },
  {
   "cell_type": "code",
   "execution_count": null,
   "id": "outdoor-delivery",
   "metadata": {},
   "outputs": [],
   "source": [
    "from sklearn.linear_model import LogisticRegression\n",
    "clf = LogisticRegression(fit_intercept=False, penalty='none')\n",
    "clf.fit(X_train, y_train)\n",
    "print(clf.score(X_train, y_train))\n",
    "print(clf.score(X_test, y_test))"
   ]
  },
  {
   "cell_type": "code",
   "execution_count": null,
   "id": "approximate-fifty",
   "metadata": {},
   "outputs": [],
   "source": []
  }
 ],
 "metadata": {
  "kernelspec": {
   "display_name": "env",
   "language": "python",
   "name": "python3"
  },
  "language_info": {
   "codemirror_mode": {
    "name": "ipython",
    "version": 3
   },
   "file_extension": ".py",
   "mimetype": "text/x-python",
   "name": "python",
   "nbconvert_exporter": "python",
   "pygments_lexer": "ipython3",
   "version": "3.11.0 (main, Oct 24 2022, 00:00:00) [GCC 12.2.1 20220819 (Red Hat 12.2.1-2)]"
  },
  "vscode": {
   "interpreter": {
    "hash": "b7d214a88a9b09db83b59510c4fcf3c1e78859dd0a7fd15f07991e8177d466b0"
   }
  }
 },
 "nbformat": 4,
 "nbformat_minor": 5
}
